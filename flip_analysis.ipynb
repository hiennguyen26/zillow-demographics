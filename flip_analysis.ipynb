{
 "metadata": {
  "language_info": {
   "codemirror_mode": {
    "name": "ipython",
    "version": 3
   },
   "file_extension": ".py",
   "mimetype": "text/x-python",
   "name": "python",
   "nbconvert_exporter": "python",
   "pygments_lexer": "ipython3",
   "version": "3.7.4"
  },
  "orig_nbformat": 4,
  "kernelspec": {
   "name": "python3",
   "display_name": "Python 3.7.4 64-bit ('base': conda)"
  },
  "interpreter": {
   "hash": "dca0ade3e726a953b501b15e8e990130d2b7799f14cfd9f4271676035ebe5511"
  }
 },
 "nbformat": 4,
 "nbformat_minor": 2,
 "cells": [
  {
   "cell_type": "code",
   "execution_count": 1,
   "metadata": {},
   "outputs": [],
   "source": [
    "#Analysis for a house flip imports, sort by median household income by zip codes, return URL\n",
    "import pandas as pd\n",
    "import regex as re\n",
    "zillow_props_data = pd.read_excel(\"./Scraped Data/Zillow/Properties_Zillow_Aug2.xlsx\")\n",
    "mass_data_data = pd.read_excel(\"Massachusetts_IncomeByZipDemographics.xlsx\")\n",
    "\n",
    "#Convert to DataFrames\n",
    "zillow_props = pd.DataFrame(zillow_props_data, columns = ['address','price','bathrooms','bedrooms','area','zestimate','rent_zestimate','days_on_zillow','property_url'])\n",
    "\n",
    "mass_data = pd.DataFrame(mass_data_data)\n",
    "def fix_zip(series):\n",
    "      return series.astype(str).str.extract('(\\d+)', expand=False).str.zfill(5)\n",
    "\n",
    "mass_data['zip_code'] = fix_zip(mass_data['zip_code'])\n",
    "del mass_data['geoid']\n",
    "del mass_data['state_name']\n"
   ]
  },
  {
   "cell_type": "code",
   "execution_count": 2,
   "metadata": {},
   "outputs": [
    {
     "output_type": "execute_result",
     "data": {
      "text/plain": [
       "                                address     price  bathrooms  bedrooms  \\\n",
       "0   404 Lincoln St, Lexington, MA 02421  750000.0        2.0       3.0   \n",
       "1  239-241 Delhi St, Mattapan, MA 02126  750000.0        2.0       6.0   \n",
       "2      22 Bartlett St, Malden, MA 02148  750000.0        3.0       3.0   \n",
       "3           9 Hall Pl, Quincy, MA 02169  750000.0        3.0       5.0   \n",
       "4       50 Myrtle St, Everett, MA 02149  750000.0        2.0       4.0   \n",
       "\n",
       "          area  zestimate  rent_zestimate  days_on_zillow  \\\n",
       "0  1848.0 sqft   828200.0          3349.0              75   \n",
       "1  2178.0 sqft   776200.0          3599.0               5   \n",
       "2  1778.0 sqft   812500.0          3499.0               5   \n",
       "3  2907.0 sqft   774200.0          4300.0               3   \n",
       "4  2588.0 sqft   775900.0          3499.0               5   \n",
       "\n",
       "                                        property_url    zip  \n",
       "0  https://www.zillow.com/homedetails/404-Lincoln...  02421  \n",
       "1  https://www.zillow.com/homedetails/239-241-Del...  02126  \n",
       "2  https://www.zillow.com/homedetails/22-Bartlett...  02148  \n",
       "3  https://www.zillow.com/homedetails/9-Hall-Pl-Q...  02169  \n",
       "4  https://www.zillow.com/homedetails/50-Myrtle-S...  02149  "
      ],
      "text/html": "<div>\n<style scoped>\n    .dataframe tbody tr th:only-of-type {\n        vertical-align: middle;\n    }\n\n    .dataframe tbody tr th {\n        vertical-align: top;\n    }\n\n    .dataframe thead th {\n        text-align: right;\n    }\n</style>\n<table border=\"1\" class=\"dataframe\">\n  <thead>\n    <tr style=\"text-align: right;\">\n      <th></th>\n      <th>address</th>\n      <th>price</th>\n      <th>bathrooms</th>\n      <th>bedrooms</th>\n      <th>area</th>\n      <th>zestimate</th>\n      <th>rent_zestimate</th>\n      <th>days_on_zillow</th>\n      <th>property_url</th>\n      <th>zip</th>\n    </tr>\n  </thead>\n  <tbody>\n    <tr>\n      <td>0</td>\n      <td>404 Lincoln St, Lexington, MA 02421</td>\n      <td>750000.0</td>\n      <td>2.0</td>\n      <td>3.0</td>\n      <td>1848.0 sqft</td>\n      <td>828200.0</td>\n      <td>3349.0</td>\n      <td>75</td>\n      <td>https://www.zillow.com/homedetails/404-Lincoln...</td>\n      <td>02421</td>\n    </tr>\n    <tr>\n      <td>1</td>\n      <td>239-241 Delhi St, Mattapan, MA 02126</td>\n      <td>750000.0</td>\n      <td>2.0</td>\n      <td>6.0</td>\n      <td>2178.0 sqft</td>\n      <td>776200.0</td>\n      <td>3599.0</td>\n      <td>5</td>\n      <td>https://www.zillow.com/homedetails/239-241-Del...</td>\n      <td>02126</td>\n    </tr>\n    <tr>\n      <td>2</td>\n      <td>22 Bartlett St, Malden, MA 02148</td>\n      <td>750000.0</td>\n      <td>3.0</td>\n      <td>3.0</td>\n      <td>1778.0 sqft</td>\n      <td>812500.0</td>\n      <td>3499.0</td>\n      <td>5</td>\n      <td>https://www.zillow.com/homedetails/22-Bartlett...</td>\n      <td>02148</td>\n    </tr>\n    <tr>\n      <td>3</td>\n      <td>9 Hall Pl, Quincy, MA 02169</td>\n      <td>750000.0</td>\n      <td>3.0</td>\n      <td>5.0</td>\n      <td>2907.0 sqft</td>\n      <td>774200.0</td>\n      <td>4300.0</td>\n      <td>3</td>\n      <td>https://www.zillow.com/homedetails/9-Hall-Pl-Q...</td>\n      <td>02169</td>\n    </tr>\n    <tr>\n      <td>4</td>\n      <td>50 Myrtle St, Everett, MA 02149</td>\n      <td>750000.0</td>\n      <td>2.0</td>\n      <td>4.0</td>\n      <td>2588.0 sqft</td>\n      <td>775900.0</td>\n      <td>3499.0</td>\n      <td>5</td>\n      <td>https://www.zillow.com/homedetails/50-Myrtle-S...</td>\n      <td>02149</td>\n    </tr>\n  </tbody>\n</table>\n</div>"
     },
     "metadata": {},
     "execution_count": 2
    }
   ],
   "source": [
    "#Checking if the datasets are good\n",
    "\n",
    "zillow_props['zip'] = zillow_props['address'].str.extract(r'(\\d{5}\\-?\\d{0,4})')\n",
    "\n",
    "zillow_props.head()\n"
   ]
  },
  {
   "cell_type": "code",
   "execution_count": 3,
   "metadata": {},
   "outputs": [
    {
     "output_type": "execute_result",
     "data": {
      "text/plain": [
       "  zip_code          county_name                    city_name      aland  \\\n",
       "0    01001              Hampden                  Agawam Town   29796888   \n",
       "1    01002  Franklin; Hampshire  Amherst; Pelham; Shutesbury  142616784   \n",
       "2    01003            Hampshire                      Amherst    1842387   \n",
       "3    01005            Worcester                        Barre  114638390   \n",
       "4    01007            Hampshire                  Belchertown  136236046   \n",
       "\n",
       "   median_household_income  median_household_income_moe  \\\n",
       "0                    63949                         3784   \n",
       "1                    61159                         8382   \n",
       "2                     2499                           -1   \n",
       "3                    67302                         6752   \n",
       "4                    91191                         4893   \n",
       "\n",
       "   average_household_income  average_household_income_moe  per_capita_income  \\\n",
       "0                     81177                          5434              36540   \n",
       "1                     91025                          6080              30847   \n",
       "2                        -1                            -1               4378   \n",
       "3                     95841                          9282              37464   \n",
       "4                    111617                         10414              41753   \n",
       "\n",
       "   per_capita_income_moe  ...  unemployment_pct  housing_units  \\\n",
       "0                   2578  ...             0.039           7623   \n",
       "1                   1871  ...             0.058          10965   \n",
       "2                    458  ...             0.189             79   \n",
       "3                   3651  ...             0.029           2156   \n",
       "4                   3851  ...             0.042           5988   \n",
       "\n",
       "   median_value_of_owner_occupied_units  households  hh_families  \\\n",
       "0                                215700        7413         4164   \n",
       "1                                355500        9798         4980   \n",
       "2                                    -1          42            4   \n",
       "3                                236400        1944         1243   \n",
       "4                                276900        5563         4075   \n",
       "\n",
       "   hh_mc_families  hh_mc_with_own_children_under_18  hh_sp_families  \\\n",
       "0            3142                               806            1022   \n",
       "1            3513                              1171            1467   \n",
       "2               0                                 0               4   \n",
       "3            1066                               383             177   \n",
       "4            3283                              1361             792   \n",
       "\n",
       "   hh_sp_with_own_children_under_18  hh_non_families  \n",
       "0                               527             3249  \n",
       "1                               901             4818  \n",
       "2                                 0               38  \n",
       "3                                60              701  \n",
       "4                               308             1488  \n",
       "\n",
       "[5 rows x 75 columns]"
      ],
      "text/html": "<div>\n<style scoped>\n    .dataframe tbody tr th:only-of-type {\n        vertical-align: middle;\n    }\n\n    .dataframe tbody tr th {\n        vertical-align: top;\n    }\n\n    .dataframe thead th {\n        text-align: right;\n    }\n</style>\n<table border=\"1\" class=\"dataframe\">\n  <thead>\n    <tr style=\"text-align: right;\">\n      <th></th>\n      <th>zip_code</th>\n      <th>county_name</th>\n      <th>city_name</th>\n      <th>aland</th>\n      <th>median_household_income</th>\n      <th>median_household_income_moe</th>\n      <th>average_household_income</th>\n      <th>average_household_income_moe</th>\n      <th>per_capita_income</th>\n      <th>per_capita_income_moe</th>\n      <th>...</th>\n      <th>unemployment_pct</th>\n      <th>housing_units</th>\n      <th>median_value_of_owner_occupied_units</th>\n      <th>households</th>\n      <th>hh_families</th>\n      <th>hh_mc_families</th>\n      <th>hh_mc_with_own_children_under_18</th>\n      <th>hh_sp_families</th>\n      <th>hh_sp_with_own_children_under_18</th>\n      <th>hh_non_families</th>\n    </tr>\n  </thead>\n  <tbody>\n    <tr>\n      <td>0</td>\n      <td>01001</td>\n      <td>Hampden</td>\n      <td>Agawam Town</td>\n      <td>29796888</td>\n      <td>63949</td>\n      <td>3784</td>\n      <td>81177</td>\n      <td>5434</td>\n      <td>36540</td>\n      <td>2578</td>\n      <td>...</td>\n      <td>0.039</td>\n      <td>7623</td>\n      <td>215700</td>\n      <td>7413</td>\n      <td>4164</td>\n      <td>3142</td>\n      <td>806</td>\n      <td>1022</td>\n      <td>527</td>\n      <td>3249</td>\n    </tr>\n    <tr>\n      <td>1</td>\n      <td>01002</td>\n      <td>Franklin; Hampshire</td>\n      <td>Amherst; Pelham; Shutesbury</td>\n      <td>142616784</td>\n      <td>61159</td>\n      <td>8382</td>\n      <td>91025</td>\n      <td>6080</td>\n      <td>30847</td>\n      <td>1871</td>\n      <td>...</td>\n      <td>0.058</td>\n      <td>10965</td>\n      <td>355500</td>\n      <td>9798</td>\n      <td>4980</td>\n      <td>3513</td>\n      <td>1171</td>\n      <td>1467</td>\n      <td>901</td>\n      <td>4818</td>\n    </tr>\n    <tr>\n      <td>2</td>\n      <td>01003</td>\n      <td>Hampshire</td>\n      <td>Amherst</td>\n      <td>1842387</td>\n      <td>2499</td>\n      <td>-1</td>\n      <td>-1</td>\n      <td>-1</td>\n      <td>4378</td>\n      <td>458</td>\n      <td>...</td>\n      <td>0.189</td>\n      <td>79</td>\n      <td>-1</td>\n      <td>42</td>\n      <td>4</td>\n      <td>0</td>\n      <td>0</td>\n      <td>4</td>\n      <td>0</td>\n      <td>38</td>\n    </tr>\n    <tr>\n      <td>3</td>\n      <td>01005</td>\n      <td>Worcester</td>\n      <td>Barre</td>\n      <td>114638390</td>\n      <td>67302</td>\n      <td>6752</td>\n      <td>95841</td>\n      <td>9282</td>\n      <td>37464</td>\n      <td>3651</td>\n      <td>...</td>\n      <td>0.029</td>\n      <td>2156</td>\n      <td>236400</td>\n      <td>1944</td>\n      <td>1243</td>\n      <td>1066</td>\n      <td>383</td>\n      <td>177</td>\n      <td>60</td>\n      <td>701</td>\n    </tr>\n    <tr>\n      <td>4</td>\n      <td>01007</td>\n      <td>Hampshire</td>\n      <td>Belchertown</td>\n      <td>136236046</td>\n      <td>91191</td>\n      <td>4893</td>\n      <td>111617</td>\n      <td>10414</td>\n      <td>41753</td>\n      <td>3851</td>\n      <td>...</td>\n      <td>0.042</td>\n      <td>5988</td>\n      <td>276900</td>\n      <td>5563</td>\n      <td>4075</td>\n      <td>3283</td>\n      <td>1361</td>\n      <td>792</td>\n      <td>308</td>\n      <td>1488</td>\n    </tr>\n  </tbody>\n</table>\n<p>5 rows × 75 columns</p>\n</div>"
     },
     "metadata": {},
     "execution_count": 3
    }
   ],
   "source": [
    "#Checking if the datasets are good\n",
    "mass_data.head()"
   ]
  },
  {
   "cell_type": "code",
   "execution_count": 6,
   "metadata": {},
   "outputs": [],
   "source": [
    "#Filter all the adresses with a certain income threshhold by zip codes\n",
    "def filter_good_props(thresh):\n",
    "    good_props = []\n",
    "    for prop in zillow_props:\n",
    "        #failsafe zip doesn't exist in the other spreadsheet\n",
    "        if prop['zip'] not in mass_data['zip_code']:\n",
    "            print(\"cannot match zip code for: \" + prop['address'] + \"at price: \" + prop['price'])\n",
    "        else: \n",
    "            #if does match, check median household income is below threshhold to evade\n",
    "            if mass_data['median_household_income'] < thresh:\n",
    "                print(\"property is undesired, below the \" + thresh + \" income level\")\n",
    "            else:\n",
    "                print(\"found desired property at \" + prop['address'] + \" at price: \" + prop['price'])\n",
    "                good_collect.append(prop)\n",
    "    return good_props\n",
    "\n",
    "    print(filter_good_props(750000))\n",
    "\n",
    "\n",
    "\n",
    "\n",
    "\n",
    "\n",
    "\n",
    "\n",
    "\n",
    "\n"
   ]
  },
  {
   "cell_type": "code",
   "execution_count": null,
   "metadata": {},
   "outputs": [],
   "source": []
  }
 ]
}